{
 "cells": [
  {
   "cell_type": "markdown",
   "metadata": {},
   "source": [
    "## 1.2 グラフィカル表現"
   ]
  },
  {
   "cell_type": "code",
   "execution_count": 1,
   "metadata": {},
   "outputs": [],
   "source": [
    "from pgmpy.base import DAG\n",
    "from mypkg.display import display_graph"
   ]
  },
  {
   "cell_type": "markdown",
   "metadata": {},
   "source": [
    "調査の目的:「変数がどのように関連しているかを検討する」"
   ]
  },
  {
   "cell_type": "markdown",
   "metadata": {},
   "source": [
    "DAGを構築する"
   ]
  },
  {
   "cell_type": "code",
   "execution_count": 2,
   "metadata": {},
   "outputs": [],
   "source": [
    "# ノードの文字を定義しておく\n",
    "A = \"年齢(A)\"\n",
    "S = \"性別(S)\"\n",
    "E = \"教育水準(E)\"\n",
    "O = \"職業(O)\"\n",
    "R = \"居住地(R)\"\n",
    "T = \"交通手段(T)\"\n",
    "\n",
    "# アークなしのDAGを構築\n",
    "dag = DAG()\n",
    "dag.add_nodes_from(nodes=[A, S, E, O, R, T])"
   ]
  },
  {
   "cell_type": "code",
   "execution_count": 3,
   "metadata": {},
   "outputs": [],
   "source": [
    "# アークを加える\n",
    "\n",
    "# Age -> Education\n",
    "dag.add_edge(u=A, v=E)\n",
    "\n",
    "# Sex -> Education\n",
    "dag.add_edge(u=S, v=E)\n",
    "\n",
    "# Education -> Occupation\n",
    "# Education -> Residence\n",
    "dag.add_edge(u=E, v=O)\n",
    "dag.add_edge(u=E, v=R)\n",
    "\n",
    "# Occupation -> Travel\n",
    "# Residence -> Travel\n",
    "dag.add_edge(u=O, v=T)\n",
    "dag.add_edge(u=R, v=T)"
   ]
  },
  {
   "cell_type": "code",
   "execution_count": 4,
   "metadata": {},
   "outputs": [
    {
     "data": {
      "image/svg+xml": [
       "<svg xmlns=\"http://www.w3.org/2000/svg\" xmlns:xlink=\"http://www.w3.org/1999/xlink\" width=\"218pt\" height=\"260pt\" viewBox=\"0.00 0.00 217.54 260.00\">\n",
       "<g id=\"graph0\" class=\"graph\" transform=\"scale(1 1) rotate(0) translate(4 256)\">\n",
       "<polygon fill=\"white\" stroke=\"transparent\" points=\"-4,4 -4,-256 213.54,-256 213.54,4 -4,4\"/>\n",
       "<!-- 年齢(A) -->\n",
       "<g id=\"node1\" class=\"node\">\n",
       "<title>年齢(A)</title>\n",
       "<ellipse fill=\"none\" stroke=\"black\" cx=\"49.55\" cy=\"-234\" rx=\"42.49\" ry=\"18\"/>\n",
       "<text text-anchor=\"middle\" x=\"49.55\" y=\"-230.3\" font-family=\"Times,serif\" font-size=\"14.00\">年齢(A)</text>\n",
       "</g>\n",
       "<!-- 教育水準(E) -->\n",
       "<g id=\"node2\" class=\"node\">\n",
       "<title>教育水準(E)</title>\n",
       "<ellipse fill=\"none\" stroke=\"black\" cx=\"100.55\" cy=\"-162\" rx=\"61.99\" ry=\"18\"/>\n",
       "<text text-anchor=\"middle\" x=\"100.55\" y=\"-158.3\" font-family=\"Times,serif\" font-size=\"14.00\">教育水準(E)</text>\n",
       "</g>\n",
       "<!-- 年齢(A)&#45;&gt;教育水準(E) -->\n",
       "<g id=\"edge1\" class=\"edge\">\n",
       "<title>年齢(A)-&gt;教育水準(E)</title>\n",
       "<path fill=\"none\" stroke=\"black\" d=\"M61.63,-216.41C67.77,-207.99 75.35,-197.58 82.19,-188.2\"/>\n",
       "<polygon fill=\"black\" stroke=\"black\" points=\"85.13,-190.1 88.19,-179.96 79.47,-185.98 85.13,-190.1\"/>\n",
       "</g>\n",
       "<!-- 職業(O) -->\n",
       "<g id=\"node4\" class=\"node\">\n",
       "<title>職業(O)</title>\n",
       "<ellipse fill=\"none\" stroke=\"black\" cx=\"43.55\" cy=\"-90\" rx=\"43.59\" ry=\"18\"/>\n",
       "<text text-anchor=\"middle\" x=\"43.55\" y=\"-86.3\" font-family=\"Times,serif\" font-size=\"14.00\">職業(O)</text>\n",
       "</g>\n",
       "<!-- 教育水準(E)&#45;&gt;職業(O) -->\n",
       "<g id=\"edge3\" class=\"edge\">\n",
       "<title>教育水準(E)-&gt;職業(O)</title>\n",
       "<path fill=\"none\" stroke=\"black\" d=\"M87.04,-144.41C80.01,-135.78 71.28,-125.06 63.49,-115.5\"/>\n",
       "<polygon fill=\"black\" stroke=\"black\" points=\"65.99,-113.01 56.96,-107.47 60.56,-117.43 65.99,-113.01\"/>\n",
       "</g>\n",
       "<!-- 居住地(R) -->\n",
       "<g id=\"node5\" class=\"node\">\n",
       "<title>居住地(R)</title>\n",
       "<ellipse fill=\"none\" stroke=\"black\" cx=\"157.55\" cy=\"-90\" rx=\"51.99\" ry=\"18\"/>\n",
       "<text text-anchor=\"middle\" x=\"157.55\" y=\"-86.3\" font-family=\"Times,serif\" font-size=\"14.00\">居住地(R)</text>\n",
       "</g>\n",
       "<!-- 教育水準(E)&#45;&gt;居住地(R) -->\n",
       "<g id=\"edge4\" class=\"edge\">\n",
       "<title>教育水準(E)-&gt;居住地(R)</title>\n",
       "<path fill=\"none\" stroke=\"black\" d=\"M114.05,-144.41C121.08,-135.78 129.81,-125.06 137.6,-115.5\"/>\n",
       "<polygon fill=\"black\" stroke=\"black\" points=\"140.53,-117.43 144.13,-107.47 135.11,-113.01 140.53,-117.43\"/>\n",
       "</g>\n",
       "<!-- 性別(S) -->\n",
       "<g id=\"node3\" class=\"node\">\n",
       "<title>性別(S)</title>\n",
       "<ellipse fill=\"none\" stroke=\"black\" cx=\"151.55\" cy=\"-234\" rx=\"42.49\" ry=\"18\"/>\n",
       "<text text-anchor=\"middle\" x=\"151.55\" y=\"-230.3\" font-family=\"Times,serif\" font-size=\"14.00\">性別(S)</text>\n",
       "</g>\n",
       "<!-- 性別(S)&#45;&gt;教育水準(E) -->\n",
       "<g id=\"edge2\" class=\"edge\">\n",
       "<title>性別(S)-&gt;教育水準(E)</title>\n",
       "<path fill=\"none\" stroke=\"black\" d=\"M139.46,-216.41C133.33,-207.99 125.74,-197.58 118.91,-188.2\"/>\n",
       "<polygon fill=\"black\" stroke=\"black\" points=\"121.62,-185.98 112.9,-179.96 115.96,-190.1 121.62,-185.98\"/>\n",
       "</g>\n",
       "<!-- 交通手段(T) -->\n",
       "<g id=\"node6\" class=\"node\">\n",
       "<title>交通手段(T)</title>\n",
       "<ellipse fill=\"none\" stroke=\"black\" cx=\"100.55\" cy=\"-18\" rx=\"60.39\" ry=\"18\"/>\n",
       "<text text-anchor=\"middle\" x=\"100.55\" y=\"-14.3\" font-family=\"Times,serif\" font-size=\"14.00\">交通手段(T)</text>\n",
       "</g>\n",
       "<!-- 職業(O)&#45;&gt;交通手段(T) -->\n",
       "<g id=\"edge5\" class=\"edge\">\n",
       "<title>職業(O)-&gt;交通手段(T)</title>\n",
       "<path fill=\"none\" stroke=\"black\" d=\"M56.77,-72.76C63.86,-64.06 72.74,-53.15 80.65,-43.43\"/>\n",
       "<polygon fill=\"black\" stroke=\"black\" points=\"83.4,-45.6 87,-35.63 77.97,-41.18 83.4,-45.6\"/>\n",
       "</g>\n",
       "<!-- 居住地(R)&#45;&gt;交通手段(T) -->\n",
       "<g id=\"edge6\" class=\"edge\">\n",
       "<title>居住地(R)-&gt;交通手段(T)</title>\n",
       "<path fill=\"none\" stroke=\"black\" d=\"M144.04,-72.41C137.11,-63.91 128.54,-53.37 120.83,-43.91\"/>\n",
       "<polygon fill=\"black\" stroke=\"black\" points=\"123.38,-41.5 114.35,-35.96 117.95,-45.92 123.38,-41.5\"/>\n",
       "</g>\n",
       "</g>\n",
       "</svg>"
      ],
      "text/plain": [
       "<IPython.core.display.SVG object>"
      ]
     },
     "metadata": {},
     "output_type": "display_data"
    }
   ],
   "source": [
    "# グラフを可視化\n",
    "g = dag.to_graphviz()\n",
    "display_graph(g)"
   ]
  },
  {
   "cell_type": "code",
   "execution_count": 5,
   "metadata": {},
   "outputs": [
    {
     "data": {
      "text/plain": [
       "NodeView(('年齢(A)', '性別(S)', '教育水準(E)', '職業(O)', '居住地(R)', '交通手段(T)'))"
      ]
     },
     "execution_count": 5,
     "metadata": {},
     "output_type": "execute_result"
    }
   ],
   "source": [
    "# ノード\n",
    "dag.nodes()"
   ]
  },
  {
   "cell_type": "code",
   "execution_count": 14,
   "metadata": {},
   "outputs": [
    {
     "data": {
      "text/plain": [
       "OutEdgeView([('年齢(A)', '教育水準(E)'), ('性別(S)', '教育水準(E)'), ('教育水準(E)', '職業(O)'), ('教育水準(E)', '居住地(R)'), ('職業(O)', '交通手段(T)'), ('居住地(R)', '交通手段(T)')])"
      ]
     },
     "execution_count": 14,
     "metadata": {},
     "output_type": "execute_result"
    }
   ],
   "source": [
    "# アーク\n",
    "dag.edges()"
   ]
  }
 ],
 "metadata": {
  "kernelspec": {
   "display_name": "Python 3",
   "language": "python",
   "name": "python3"
  },
  "language_info": {
   "codemirror_mode": {
    "name": "ipython",
    "version": 3
   },
   "file_extension": ".py",
   "mimetype": "text/x-python",
   "name": "python",
   "nbconvert_exporter": "python",
   "pygments_lexer": "ipython3",
   "version": "3.9.18"
  }
 },
 "nbformat": 4,
 "nbformat_minor": 2
}
