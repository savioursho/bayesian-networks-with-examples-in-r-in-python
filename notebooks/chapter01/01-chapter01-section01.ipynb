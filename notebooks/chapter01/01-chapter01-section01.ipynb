{
 "cells": [
  {
   "cell_type": "markdown",
   "metadata": {},
   "source": [
    "## 1.1 事例紹介：交通手段に関する調査"
   ]
  },
  {
   "cell_type": "markdown",
   "metadata": {},
   "source": [
    "6つの離散型変数を用いて個々人の交通手段について検討する。\n",
    "\n",
    "- Age(`A`)\n",
    "    - `young`: Age < 30\n",
    "    - `adult`: 30 =< Age < 60\n",
    "    - `old`  : 60 =< Age\n",
    "- Sex(`S`)\n",
    "    - `M`: male\n",
    "    - `F`: female\n",
    "- Education(`E`)\n",
    "    - `high`\n",
    "    - `uni`\n",
    "- Occupation(`O`)\n",
    "    - `emp`\n",
    "    - `self`\n",
    "- Residence(`R`)\n",
    "    - `small`\n",
    "    - `big`\n",
    "- Travel(`T`)\n",
    "    - `car`\n",
    "    - `train`\n",
    "    - `other`\n",
    "\n",
    "これらの変数は3種類に分類できる。\n",
    "\n",
    "- 人口統計学的指標(demographic indicators)\n",
    "    - 年齢\n",
    "    - 性別\n",
    "- 社会経済学的指標(socioeconomic indicators)\n",
    "    - 教育水準\n",
    "    - 職業\n",
    "    - 居住地\n",
    "- 応答変数\n",
    "    - 交通手段"
   ]
  },
  {
   "cell_type": "code",
   "execution_count": null,
   "metadata": {},
   "outputs": [],
   "source": []
  }
 ],
 "metadata": {
  "language_info": {
   "name": "python"
  }
 },
 "nbformat": 4,
 "nbformat_minor": 2
}
